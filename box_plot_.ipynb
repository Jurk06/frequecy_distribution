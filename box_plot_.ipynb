{
  "nbformat": 4,
  "nbformat_minor": 0,
  "metadata": {
    "colab": {
      "name": "box-plot_.ipynb",
      "provenance": [],
      "collapsed_sections": []
    },
    "kernelspec": {
      "name": "python3",
      "display_name": "Python 3"
    }
  },
  "cells": [
    {
      "cell_type": "code",
      "metadata": {
        "id": "1W0ORF7HRW_t"
      },
      "source": [
        "import pandas as pd\r\n",
        "import numpy as np\r\n",
        "import matplotlib.pyplot as plt\r\n",
        "import seaborn as sns"
      ],
      "execution_count": 1,
      "outputs": []
    },
    {
      "cell_type": "code",
      "metadata": {
        "colab": {
          "base_uri": "https://localhost:8080/",
          "height": 407
        },
        "id": "79bEawvDRhFD",
        "outputId": "23508e12-4a3a-43a7-d804-5a71ff1abab3"
      },
      "source": [
        "d={'dia of hole':[120.1,120.2,120.3,120.4,120.5,120.5,120.7,120.8,120.9,120.9,121.1,121.3]}\r\n",
        "df=pd.DataFrame(data=d)\r\n",
        "df"
      ],
      "execution_count": 2,
      "outputs": [
        {
          "output_type": "execute_result",
          "data": {
            "text/html": [
              "<div>\n",
              "<style scoped>\n",
              "    .dataframe tbody tr th:only-of-type {\n",
              "        vertical-align: middle;\n",
              "    }\n",
              "\n",
              "    .dataframe tbody tr th {\n",
              "        vertical-align: top;\n",
              "    }\n",
              "\n",
              "    .dataframe thead th {\n",
              "        text-align: right;\n",
              "    }\n",
              "</style>\n",
              "<table border=\"1\" class=\"dataframe\">\n",
              "  <thead>\n",
              "    <tr style=\"text-align: right;\">\n",
              "      <th></th>\n",
              "      <th>dia of hole</th>\n",
              "    </tr>\n",
              "  </thead>\n",
              "  <tbody>\n",
              "    <tr>\n",
              "      <th>0</th>\n",
              "      <td>120.1</td>\n",
              "    </tr>\n",
              "    <tr>\n",
              "      <th>1</th>\n",
              "      <td>120.2</td>\n",
              "    </tr>\n",
              "    <tr>\n",
              "      <th>2</th>\n",
              "      <td>120.3</td>\n",
              "    </tr>\n",
              "    <tr>\n",
              "      <th>3</th>\n",
              "      <td>120.4</td>\n",
              "    </tr>\n",
              "    <tr>\n",
              "      <th>4</th>\n",
              "      <td>120.5</td>\n",
              "    </tr>\n",
              "    <tr>\n",
              "      <th>5</th>\n",
              "      <td>120.5</td>\n",
              "    </tr>\n",
              "    <tr>\n",
              "      <th>6</th>\n",
              "      <td>120.7</td>\n",
              "    </tr>\n",
              "    <tr>\n",
              "      <th>7</th>\n",
              "      <td>120.8</td>\n",
              "    </tr>\n",
              "    <tr>\n",
              "      <th>8</th>\n",
              "      <td>120.9</td>\n",
              "    </tr>\n",
              "    <tr>\n",
              "      <th>9</th>\n",
              "      <td>120.9</td>\n",
              "    </tr>\n",
              "    <tr>\n",
              "      <th>10</th>\n",
              "      <td>121.1</td>\n",
              "    </tr>\n",
              "    <tr>\n",
              "      <th>11</th>\n",
              "      <td>121.3</td>\n",
              "    </tr>\n",
              "  </tbody>\n",
              "</table>\n",
              "</div>"
            ],
            "text/plain": [
              "    dia of hole\n",
              "0         120.1\n",
              "1         120.2\n",
              "2         120.3\n",
              "3         120.4\n",
              "4         120.5\n",
              "5         120.5\n",
              "6         120.7\n",
              "7         120.8\n",
              "8         120.9\n",
              "9         120.9\n",
              "10        121.1\n",
              "11        121.3"
            ]
          },
          "metadata": {
            "tags": []
          },
          "execution_count": 2
        }
      ]
    },
    {
      "cell_type": "code",
      "metadata": {
        "colab": {
          "base_uri": "https://localhost:8080/",
          "height": 592
        },
        "id": "YH3xLiQjSh3s",
        "outputId": "766ea27d-cce7-4200-bd52-76ffdc70e745"
      },
      "source": [
        "plt.figure(figsize=(10,10))\r\n",
        "sns.set_style(\"darkgrid\")\r\n",
        "sns.boxplot(y='dia of hole', data=df, showmeans=True, color='pink')\r\n",
        "sns.swarmplot(y='dia of hole', data=df, color=\"black\")"
      ],
      "execution_count": 19,
      "outputs": [
        {
          "output_type": "execute_result",
          "data": {
            "text/plain": [
              "<matplotlib.axes._subplots.AxesSubplot at 0x7f607c26e5f8>"
            ]
          },
          "metadata": {
            "tags": []
          },
          "execution_count": 19
        },
        {
          "output_type": "display_data",
          "data": {
            "image/png": "[encoded data removed]",
            "text/plain": [
              "<Figure size 720x720 with 1 Axes>"
            ]
          },
          "metadata": {
            "tags": []
          }
        }
      ]
    },
    {
      "cell_type": "code",
      "metadata": {
        "colab": {
          "base_uri": "https://localhost:8080/",
          "height": 610
        },
        "id": "AdzlzkYQXZAR",
        "outputId": "4255ef3a-f23b-471a-b4ad-5e0f42768517"
      },
      "source": [
        "plt.figure(figsize=(10,10))\r\n",
        "df.plot.box(\"Box-plot\", figsize=(10,10), showmeans=True)\r\n",
        "\r\n",
        "plt.show()"
      ],
      "execution_count": 28,
      "outputs": [
        {
          "output_type": "display_data",
          "data": {
            "text/plain": [
              "<Figure size 720x720 with 0 Axes>"
            ]
          },
          "metadata": {
            "tags": []
          }
        },
        {
          "output_type": "display_data",
          "data": {
            "image/png": "[encoded data removed]",
            "text/plain": [
              "<Figure size 720x720 with 1 Axes>"
            ]
          },
          "metadata": {
            "tags": []
          }
        }
      ]
    },
    {
      "cell_type": "code",
      "metadata": {
        "colab": {
          "base_uri": "https://localhost:8080/",
          "height": 0
        },
        "id": "_Bv1DlEbZ_wI",
        "outputId": "7b79b9f2-f2db-47f1-cebe-cf3773b98ea0"
      },
      "source": [
        "# Median , Quantiles, Percentiles, IR\r\n",
        "print(\"\\nMedian:\")\r\n",
        "print(np.median(df))\r\n",
        "print(np.median(np.append(df, 10)))\r\n",
        "print(\"\\nStd:\")\r\n",
        "print(np.std(df))\r\n",
        "#Quantiles\r\n",
        "print(\"\\nQuantiles:\")\r\n",
        "print(np.percentile(df, np.arange(0,100,25)))\r\n",
        "print(\"\\n90th Percentiles:\")\r\n",
        "print(np.percentile(df,90))\r\n",
        "\r\n"
      ],
      "execution_count": 35,
      "outputs": [
        {
          "output_type": "stream",
          "text": [
            "\n",
            "Median:\n",
            "120.6\n",
            "120.5\n",
            "\n",
            "Std:\n",
            "dia of hole    0.354632\n",
            "dtype: float64\n",
            "\n",
            "Quantiles:\n",
            "[120.1   120.375 120.6   120.9  ]\n",
            "\n",
            "90th Percentiles:\n",
            "121.08\n"
          ],
          "name": "stdout"
        }
      ]
    },
    {
      "cell_type": "code",
      "metadata": {
        "id": "8beQ6GFha-tE"
      },
      "source": [
        ""
      ],
      "execution_count": null,
      "outputs": []
    }
  ]
}