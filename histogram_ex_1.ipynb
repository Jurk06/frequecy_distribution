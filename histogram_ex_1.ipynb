{
  "nbformat": 4,
  "nbformat_minor": 0,
  "metadata": {
    "colab": {
      "name": "histogram_ex_1.ipynb",
      "provenance": [],
      "collapsed_sections": []
    },
    "kernelspec": {
      "name": "python3",
      "display_name": "Python 3"
    }
  },
  "cells": [
    {
      "cell_type": "code",
      "metadata": {
        "id": "TmICkf8_iKqx"
      },
      "source": [
        "import pandas as pd\r\n",
        "import numpy as np\r\n",
        "import matplotlib.pyplot as plt\r\n"
      ],
      "execution_count": 1,
      "outputs": []
    },
    {
      "cell_type": "code",
      "metadata": {
        "id": "g8mK36_1idOn"
      },
      "source": [
        ""
      ],
      "execution_count": 27,
      "outputs": []
    },
    {
      "cell_type": "code",
      "metadata": {
        "colab": {
          "base_uri": "https://localhost:8080/",
          "height": 202
        },
        "id": "056PjzXwjwxh",
        "outputId": "83f306fb-9ac9-4751-904a-b7d41d69a85d"
      },
      "source": [
        "url='https://raw.githubusercontent.com/Jurk06/frequecy_distribution/main/excersise_1.csv'\r\n",
        "data=pd.read_csv(url)\r\n",
        "data.head()"
      ],
      "execution_count": 9,
      "outputs": [
        {
          "output_type": "execute_result",
          "data": {
            "text/html": [
              "<div>\n",
              "<style scoped>\n",
              "    .dataframe tbody tr th:only-of-type {\n",
              "        vertical-align: middle;\n",
              "    }\n",
              "\n",
              "    .dataframe tbody tr th {\n",
              "        vertical-align: top;\n",
              "    }\n",
              "\n",
              "    .dataframe thead th {\n",
              "        text-align: right;\n",
              "    }\n",
              "</style>\n",
              "<table border=\"1\" class=\"dataframe\">\n",
              "  <thead>\n",
              "    <tr style=\"text-align: right;\">\n",
              "      <th></th>\n",
              "      <th>station</th>\n",
              "      <th>Frequency</th>\n",
              "    </tr>\n",
              "  </thead>\n",
              "  <tbody>\n",
              "    <tr>\n",
              "      <th>0</th>\n",
              "      <td>s1</td>\n",
              "      <td>6.2</td>\n",
              "    </tr>\n",
              "    <tr>\n",
              "      <th>1</th>\n",
              "      <td>s2</td>\n",
              "      <td>3.1</td>\n",
              "    </tr>\n",
              "    <tr>\n",
              "      <th>2</th>\n",
              "      <td>s3</td>\n",
              "      <td>2.6</td>\n",
              "    </tr>\n",
              "    <tr>\n",
              "      <th>3</th>\n",
              "      <td>s4</td>\n",
              "      <td>3.1</td>\n",
              "    </tr>\n",
              "    <tr>\n",
              "      <th>4</th>\n",
              "      <td>s5</td>\n",
              "      <td>9.5</td>\n",
              "    </tr>\n",
              "  </tbody>\n",
              "</table>\n",
              "</div>"
            ],
            "text/plain": [
              "  station  Frequency\n",
              "0      s1        6.2\n",
              "1      s2        3.1\n",
              "2      s3        2.6\n",
              "3      s4        3.1\n",
              "4      s5        9.5"
            ]
          },
          "metadata": {
            "tags": []
          },
          "execution_count": 9
        }
      ]
    },
    {
      "cell_type": "code",
      "metadata": {
        "colab": {
          "base_uri": "https://localhost:8080/"
        },
        "id": "uaOxrs3svXf9",
        "outputId": "948f769d-b183-4890-e8de-751fae92582d"
      },
      "source": [
        "data.info()"
      ],
      "execution_count": 10,
      "outputs": [
        {
          "output_type": "stream",
          "text": [
            "<class 'pandas.core.frame.DataFrame'>\n",
            "RangeIndex: 50 entries, 0 to 49\n",
            "Data columns (total 2 columns):\n",
            " #   Column     Non-Null Count  Dtype  \n",
            "---  ------     --------------  -----  \n",
            " 0   station    50 non-null     object \n",
            " 1   Frequency  50 non-null     float64\n",
            "dtypes: float64(1), object(1)\n",
            "memory usage: 928.0+ bytes\n"
          ],
          "name": "stdout"
        }
      ]
    },
    {
      "cell_type": "code",
      "metadata": {
        "id": "_j4VJCANvoRM"
      },
      "source": [
        "data['cumulative frequency']=data['Frequency'].cumsum()"
      ],
      "execution_count": 11,
      "outputs": []
    },
    {
      "cell_type": "code",
      "metadata": {
        "colab": {
          "base_uri": "https://localhost:8080/",
          "height": 355
        },
        "id": "o1CLs62gxFrK",
        "outputId": "efdb3557-cc93-4030-f6d0-281a02554cee"
      },
      "source": [
        "data.head(10)"
      ],
      "execution_count": 12,
      "outputs": [
        {
          "output_type": "execute_result",
          "data": {
            "text/html": [
              "<div>\n",
              "<style scoped>\n",
              "    .dataframe tbody tr th:only-of-type {\n",
              "        vertical-align: middle;\n",
              "    }\n",
              "\n",
              "    .dataframe tbody tr th {\n",
              "        vertical-align: top;\n",
              "    }\n",
              "\n",
              "    .dataframe thead th {\n",
              "        text-align: right;\n",
              "    }\n",
              "</style>\n",
              "<table border=\"1\" class=\"dataframe\">\n",
              "  <thead>\n",
              "    <tr style=\"text-align: right;\">\n",
              "      <th></th>\n",
              "      <th>station</th>\n",
              "      <th>Frequency</th>\n",
              "      <th>cumulative frequency</th>\n",
              "    </tr>\n",
              "  </thead>\n",
              "  <tbody>\n",
              "    <tr>\n",
              "      <th>0</th>\n",
              "      <td>s1</td>\n",
              "      <td>6.2</td>\n",
              "      <td>6.2</td>\n",
              "    </tr>\n",
              "    <tr>\n",
              "      <th>1</th>\n",
              "      <td>s2</td>\n",
              "      <td>3.1</td>\n",
              "      <td>9.3</td>\n",
              "    </tr>\n",
              "    <tr>\n",
              "      <th>2</th>\n",
              "      <td>s3</td>\n",
              "      <td>2.6</td>\n",
              "      <td>11.9</td>\n",
              "    </tr>\n",
              "    <tr>\n",
              "      <th>3</th>\n",
              "      <td>s4</td>\n",
              "      <td>3.1</td>\n",
              "      <td>15.0</td>\n",
              "    </tr>\n",
              "    <tr>\n",
              "      <th>4</th>\n",
              "      <td>s5</td>\n",
              "      <td>9.5</td>\n",
              "      <td>24.5</td>\n",
              "    </tr>\n",
              "    <tr>\n",
              "      <th>5</th>\n",
              "      <td>s6</td>\n",
              "      <td>4.8</td>\n",
              "      <td>29.3</td>\n",
              "    </tr>\n",
              "    <tr>\n",
              "      <th>6</th>\n",
              "      <td>s7</td>\n",
              "      <td>7.8</td>\n",
              "      <td>37.1</td>\n",
              "    </tr>\n",
              "    <tr>\n",
              "      <th>7</th>\n",
              "      <td>s8</td>\n",
              "      <td>6.4</td>\n",
              "      <td>43.5</td>\n",
              "    </tr>\n",
              "    <tr>\n",
              "      <th>8</th>\n",
              "      <td>s9</td>\n",
              "      <td>8.0</td>\n",
              "      <td>51.5</td>\n",
              "    </tr>\n",
              "    <tr>\n",
              "      <th>9</th>\n",
              "      <td>s10</td>\n",
              "      <td>4.0</td>\n",
              "      <td>55.5</td>\n",
              "    </tr>\n",
              "  </tbody>\n",
              "</table>\n",
              "</div>"
            ],
            "text/plain": [
              "  station  Frequency  cumulative frequency\n",
              "0      s1        6.2                   6.2\n",
              "1      s2        3.1                   9.3\n",
              "2      s3        2.6                  11.9\n",
              "3      s4        3.1                  15.0\n",
              "4      s5        9.5                  24.5\n",
              "5      s6        4.8                  29.3\n",
              "6      s7        7.8                  37.1\n",
              "7      s8        6.4                  43.5\n",
              "8      s9        8.0                  51.5\n",
              "9     s10        4.0                  55.5"
            ]
          },
          "metadata": {
            "tags": []
          },
          "execution_count": 12
        }
      ]
    },
    {
      "cell_type": "code",
      "metadata": {
        "colab": {
          "base_uri": "https://localhost:8080/"
        },
        "id": "Ls37CSGMxIrP",
        "outputId": "c039bcb0-e65f-45f8-92ea-18dea72b538a"
      },
      "source": [
        "len(data)"
      ],
      "execution_count": 13,
      "outputs": [
        {
          "output_type": "execute_result",
          "data": {
            "text/plain": [
              "50"
            ]
          },
          "metadata": {
            "tags": []
          },
          "execution_count": 13
        }
      ]
    },
    {
      "cell_type": "code",
      "metadata": {
        "colab": {
          "base_uri": "https://localhost:8080/"
        },
        "id": "kLyMsPuW05hu",
        "outputId": "7d0ede48-e3c0-4499-c260-2f55067d2f87"
      },
      "source": [
        "sum(data['Frequency'])"
      ],
      "execution_count": 15,
      "outputs": [
        {
          "output_type": "execute_result",
          "data": {
            "text/plain": [
              "261.7999999999999"
            ]
          },
          "metadata": {
            "tags": []
          },
          "execution_count": 15
        }
      ]
    },
    {
      "cell_type": "code",
      "metadata": {
        "id": "VwT44F7X1GDS"
      },
      "source": [
        "data['Relative']=data['Frequency']/sum(data['Frequency'])"
      ],
      "execution_count": 16,
      "outputs": []
    },
    {
      "cell_type": "code",
      "metadata": {
        "colab": {
          "base_uri": "https://localhost:8080/",
          "height": 202
        },
        "id": "iLJTBvGe1fAg",
        "outputId": "d7093c0c-3ee3-4d70-e6bf-6e7c66151e39"
      },
      "source": [
        "data.head()"
      ],
      "execution_count": 17,
      "outputs": [
        {
          "output_type": "execute_result",
          "data": {
            "text/html": [
              "<div>\n",
              "<style scoped>\n",
              "    .dataframe tbody tr th:only-of-type {\n",
              "        vertical-align: middle;\n",
              "    }\n",
              "\n",
              "    .dataframe tbody tr th {\n",
              "        vertical-align: top;\n",
              "    }\n",
              "\n",
              "    .dataframe thead th {\n",
              "        text-align: right;\n",
              "    }\n",
              "</style>\n",
              "<table border=\"1\" class=\"dataframe\">\n",
              "  <thead>\n",
              "    <tr style=\"text-align: right;\">\n",
              "      <th></th>\n",
              "      <th>station</th>\n",
              "      <th>Frequency</th>\n",
              "      <th>cumulative frequency</th>\n",
              "      <th>Relative</th>\n",
              "    </tr>\n",
              "  </thead>\n",
              "  <tbody>\n",
              "    <tr>\n",
              "      <th>0</th>\n",
              "      <td>s1</td>\n",
              "      <td>6.2</td>\n",
              "      <td>6.2</td>\n",
              "      <td>0.023682</td>\n",
              "    </tr>\n",
              "    <tr>\n",
              "      <th>1</th>\n",
              "      <td>s2</td>\n",
              "      <td>3.1</td>\n",
              "      <td>9.3</td>\n",
              "      <td>0.011841</td>\n",
              "    </tr>\n",
              "    <tr>\n",
              "      <th>2</th>\n",
              "      <td>s3</td>\n",
              "      <td>2.6</td>\n",
              "      <td>11.9</td>\n",
              "      <td>0.009931</td>\n",
              "    </tr>\n",
              "    <tr>\n",
              "      <th>3</th>\n",
              "      <td>s4</td>\n",
              "      <td>3.1</td>\n",
              "      <td>15.0</td>\n",
              "      <td>0.011841</td>\n",
              "    </tr>\n",
              "    <tr>\n",
              "      <th>4</th>\n",
              "      <td>s5</td>\n",
              "      <td>9.5</td>\n",
              "      <td>24.5</td>\n",
              "      <td>0.036287</td>\n",
              "    </tr>\n",
              "  </tbody>\n",
              "</table>\n",
              "</div>"
            ],
            "text/plain": [
              "  station  Frequency  cumulative frequency  Relative\n",
              "0      s1        6.2                   6.2  0.023682\n",
              "1      s2        3.1                   9.3  0.011841\n",
              "2      s3        2.6                  11.9  0.009931\n",
              "3      s4        3.1                  15.0  0.011841\n",
              "4      s5        9.5                  24.5  0.036287"
            ]
          },
          "metadata": {
            "tags": []
          },
          "execution_count": 17
        }
      ]
    },
    {
      "cell_type": "code",
      "metadata": {
        "colab": {
          "base_uri": "https://localhost:8080/"
        },
        "id": "FLtw4olf1gnD",
        "outputId": "66720597-2fe7-430e-dbb6-886ed604ffc6"
      },
      "source": [
        "sum(data['cumulative frequency'])"
      ],
      "execution_count": 18,
      "outputs": [
        {
          "output_type": "execute_result",
          "data": {
            "text/plain": [
              "6661.6"
            ]
          },
          "metadata": {
            "tags": []
          },
          "execution_count": 18
        }
      ]
    },
    {
      "cell_type": "code",
      "metadata": {
        "colab": {
          "base_uri": "https://localhost:8080/"
        },
        "id": "99c3hMBf1rre",
        "outputId": "524dfc75-c9a4-4edf-a87d-3b015454d7bf"
      },
      "source": [
        "max(data['cumulative frequency'])"
      ],
      "execution_count": 19,
      "outputs": [
        {
          "output_type": "execute_result",
          "data": {
            "text/plain": [
              "261.7999999999999"
            ]
          },
          "metadata": {
            "tags": []
          },
          "execution_count": 19
        }
      ]
    },
    {
      "cell_type": "code",
      "metadata": {
        "id": "YX-DeQqs1wk2"
      },
      "source": [
        "data=data.drop(columns='Relative')\r\n"
      ],
      "execution_count": 22,
      "outputs": []
    },
    {
      "cell_type": "code",
      "metadata": {
        "colab": {
          "base_uri": "https://localhost:8080/"
        },
        "id": "DpAvEXbf2etv",
        "outputId": "ab8bdfce-fb1a-4457-e5b7-ede47adaf01c"
      },
      "source": [
        "data.columns"
      ],
      "execution_count": 23,
      "outputs": [
        {
          "output_type": "execute_result",
          "data": {
            "text/plain": [
              "Index(['station', 'Frequency', 'cumulative frequency'], dtype='object')"
            ]
          },
          "metadata": {
            "tags": []
          },
          "execution_count": 23
        }
      ]
    },
    {
      "cell_type": "code",
      "metadata": {
        "id": "aiURuMre2n4X"
      },
      "source": [
        "data['Relative Frequency']=data['Frequency']/max(data['cumulative frequency'])"
      ],
      "execution_count": 24,
      "outputs": []
    },
    {
      "cell_type": "code",
      "metadata": {
        "colab": {
          "base_uri": "https://localhost:8080/",
          "height": 202
        },
        "id": "8URvVkk62xNi",
        "outputId": "a156a7e7-8c05-4571-a201-51699e55ad6a"
      },
      "source": [
        "data.head()"
      ],
      "execution_count": 25,
      "outputs": [
        {
          "output_type": "execute_result",
          "data": {
            "text/html": [
              "<div>\n",
              "<style scoped>\n",
              "    .dataframe tbody tr th:only-of-type {\n",
              "        vertical-align: middle;\n",
              "    }\n",
              "\n",
              "    .dataframe tbody tr th {\n",
              "        vertical-align: top;\n",
              "    }\n",
              "\n",
              "    .dataframe thead th {\n",
              "        text-align: right;\n",
              "    }\n",
              "</style>\n",
              "<table border=\"1\" class=\"dataframe\">\n",
              "  <thead>\n",
              "    <tr style=\"text-align: right;\">\n",
              "      <th></th>\n",
              "      <th>station</th>\n",
              "      <th>Frequency</th>\n",
              "      <th>cumulative frequency</th>\n",
              "      <th>Relative Frequency</th>\n",
              "    </tr>\n",
              "  </thead>\n",
              "  <tbody>\n",
              "    <tr>\n",
              "      <th>0</th>\n",
              "      <td>s1</td>\n",
              "      <td>6.2</td>\n",
              "      <td>6.2</td>\n",
              "      <td>0.023682</td>\n",
              "    </tr>\n",
              "    <tr>\n",
              "      <th>1</th>\n",
              "      <td>s2</td>\n",
              "      <td>3.1</td>\n",
              "      <td>9.3</td>\n",
              "      <td>0.011841</td>\n",
              "    </tr>\n",
              "    <tr>\n",
              "      <th>2</th>\n",
              "      <td>s3</td>\n",
              "      <td>2.6</td>\n",
              "      <td>11.9</td>\n",
              "      <td>0.009931</td>\n",
              "    </tr>\n",
              "    <tr>\n",
              "      <th>3</th>\n",
              "      <td>s4</td>\n",
              "      <td>3.1</td>\n",
              "      <td>15.0</td>\n",
              "      <td>0.011841</td>\n",
              "    </tr>\n",
              "    <tr>\n",
              "      <th>4</th>\n",
              "      <td>s5</td>\n",
              "      <td>9.5</td>\n",
              "      <td>24.5</td>\n",
              "      <td>0.036287</td>\n",
              "    </tr>\n",
              "  </tbody>\n",
              "</table>\n",
              "</div>"
            ],
            "text/plain": [
              "  station  Frequency  cumulative frequency  Relative Frequency\n",
              "0      s1        6.2                   6.2            0.023682\n",
              "1      s2        3.1                   9.3            0.011841\n",
              "2      s3        2.6                  11.9            0.009931\n",
              "3      s4        3.1                  15.0            0.011841\n",
              "4      s5        9.5                  24.5            0.036287"
            ]
          },
          "metadata": {
            "tags": []
          },
          "execution_count": 25
        }
      ]
    },
    {
      "cell_type": "code",
      "metadata": {
        "id": "GtZhIjrt2y0y"
      },
      "source": [
        "data['Cumulative Relative Frequency']=data['Relative Frequency'].cumsum()"
      ],
      "execution_count": 26,
      "outputs": []
    },
    {
      "cell_type": "code",
      "metadata": {
        "colab": {
          "base_uri": "https://localhost:8080/",
          "height": 202
        },
        "id": "ScUCVAmt3IBg",
        "outputId": "d777f809-92ec-438c-ebcf-cee3e0c46001"
      },
      "source": [
        "data.head()"
      ],
      "execution_count": 27,
      "outputs": [
        {
          "output_type": "execute_result",
          "data": {
            "text/html": [
              "<div>\n",
              "<style scoped>\n",
              "    .dataframe tbody tr th:only-of-type {\n",
              "        vertical-align: middle;\n",
              "    }\n",
              "\n",
              "    .dataframe tbody tr th {\n",
              "        vertical-align: top;\n",
              "    }\n",
              "\n",
              "    .dataframe thead th {\n",
              "        text-align: right;\n",
              "    }\n",
              "</style>\n",
              "<table border=\"1\" class=\"dataframe\">\n",
              "  <thead>\n",
              "    <tr style=\"text-align: right;\">\n",
              "      <th></th>\n",
              "      <th>station</th>\n",
              "      <th>Frequency</th>\n",
              "      <th>cumulative frequency</th>\n",
              "      <th>Relative Frequency</th>\n",
              "      <th>Cumulative Relative Frequency</th>\n",
              "    </tr>\n",
              "  </thead>\n",
              "  <tbody>\n",
              "    <tr>\n",
              "      <th>0</th>\n",
              "      <td>s1</td>\n",
              "      <td>6.2</td>\n",
              "      <td>6.2</td>\n",
              "      <td>0.023682</td>\n",
              "      <td>0.023682</td>\n",
              "    </tr>\n",
              "    <tr>\n",
              "      <th>1</th>\n",
              "      <td>s2</td>\n",
              "      <td>3.1</td>\n",
              "      <td>9.3</td>\n",
              "      <td>0.011841</td>\n",
              "      <td>0.035523</td>\n",
              "    </tr>\n",
              "    <tr>\n",
              "      <th>2</th>\n",
              "      <td>s3</td>\n",
              "      <td>2.6</td>\n",
              "      <td>11.9</td>\n",
              "      <td>0.009931</td>\n",
              "      <td>0.045455</td>\n",
              "    </tr>\n",
              "    <tr>\n",
              "      <th>3</th>\n",
              "      <td>s4</td>\n",
              "      <td>3.1</td>\n",
              "      <td>15.0</td>\n",
              "      <td>0.011841</td>\n",
              "      <td>0.057296</td>\n",
              "    </tr>\n",
              "    <tr>\n",
              "      <th>4</th>\n",
              "      <td>s5</td>\n",
              "      <td>9.5</td>\n",
              "      <td>24.5</td>\n",
              "      <td>0.036287</td>\n",
              "      <td>0.093583</td>\n",
              "    </tr>\n",
              "  </tbody>\n",
              "</table>\n",
              "</div>"
            ],
            "text/plain": [
              "  station  Frequency  ...  Relative Frequency  Cumulative Relative Frequency\n",
              "0      s1        6.2  ...            0.023682                       0.023682\n",
              "1      s2        3.1  ...            0.011841                       0.035523\n",
              "2      s3        2.6  ...            0.009931                       0.045455\n",
              "3      s4        3.1  ...            0.011841                       0.057296\n",
              "4      s5        9.5  ...            0.036287                       0.093583\n",
              "\n",
              "[5 rows x 5 columns]"
            ]
          },
          "metadata": {
            "tags": []
          },
          "execution_count": 27
        }
      ]
    },
    {
      "cell_type": "code",
      "metadata": {
        "colab": {
          "base_uri": "https://localhost:8080/",
          "height": 501
        },
        "id": "IWQ6jGRe3JtS",
        "outputId": "e7ca50fb-80d3-4ddc-ebe3-a8d09fb6c640"
      },
      "source": [
        "data['Frequency'].hist(figsize=(10,8))\r\n",
        "\r\n",
        "\r\n"
      ],
      "execution_count": 36,
      "outputs": [
        {
          "output_type": "execute_result",
          "data": {
            "text/plain": [
              "<matplotlib.axes._subplots.AxesSubplot at 0x7ff65cf1d4e0>"
            ]
          },
          "metadata": {
            "tags": []
          },
          "execution_count": 36
        },
        {
          "output_type": "display_data",
          "data": {
            "image/png": "[encoded data removed]",
            "text/plain": [
              "<Figure size 720x576 with 1 Axes>"
            ]
          },
          "metadata": {
            "tags": [],
            "needs_background": "light"
          }
        }
      ]
    },
    {
      "cell_type": "code",
      "metadata": {
        "colab": {
          "base_uri": "https://localhost:8080/",
          "height": 586
        },
        "id": "xxgS3wyx4OPY",
        "outputId": "78eeefbb-9468-449e-e7f9-c98a2b6f0c88"
      },
      "source": [
        "data.hist(figsize=(10,8))"
      ],
      "execution_count": 39,
      "outputs": [
        {
          "output_type": "execute_result",
          "data": {
            "text/plain": [
              "array([[<matplotlib.axes._subplots.AxesSubplot object at 0x7ff65cd2aac8>,\n",
              "        <matplotlib.axes._subplots.AxesSubplot object at 0x7ff65cce0f98>],\n",
              "       [<matplotlib.axes._subplots.AxesSubplot object at 0x7ff65cc9b208>,\n",
              "        <matplotlib.axes._subplots.AxesSubplot object at 0x7ff65cc4c470>]],\n",
              "      dtype=object)"
            ]
          },
          "metadata": {
            "tags": []
          },
          "execution_count": 39
        },
        {
          "output_type": "display_data",
          "data": {
            "image/png": "[encoded data removed]",
            "text/plain": [
              "<Figure size 720x576 with 4 Axes>"
            ]
          },
          "metadata": {
            "tags": [],
            "needs_background": "light"
          }
        }
      ]
    },
    {
      "cell_type": "code",
      "metadata": {
        "colab": {
          "base_uri": "https://localhost:8080/",
          "height": 503
        },
        "id": "OAxXubfe5XXV",
        "outputId": "59fc1200-ed2c-44f1-acdf-cc71ea553a50"
      },
      "source": [
        "data['Frequency'].plot.bar(figsize=(10,8))"
      ],
      "execution_count": 44,
      "outputs": [
        {
          "output_type": "execute_result",
          "data": {
            "text/plain": [
              "<matplotlib.axes._subplots.AxesSubplot at 0x7ff65ca92400>"
            ]
          },
          "metadata": {
            "tags": []
          },
          "execution_count": 44
        },
        {
          "output_type": "display_data",
          "data": {
            "image/png": "[encoded data removed]",
            "text/plain": [
              "<Figure size 720x576 with 1 Axes>"
            ]
          },
          "metadata": {
            "tags": [],
            "needs_background": "light"
          }
        }
      ]
    },
    {
      "cell_type": "code",
      "metadata": {
        "colab": {
          "base_uri": "https://localhost:8080/",
          "height": 503
        },
        "id": "7yZk94CB5yot",
        "outputId": "15e4be2a-7658-4c2b-db6f-2cf253b4b80c"
      },
      "source": [
        "data[['Frequency','cumulative frequency']].plot.bar(figsize=(10,8))"
      ],
      "execution_count": 45,
      "outputs": [
        {
          "output_type": "execute_result",
          "data": {
            "text/plain": [
              "<matplotlib.axes._subplots.AxesSubplot at 0x7ff65c5b7438>"
            ]
          },
          "metadata": {
            "tags": []
          },
          "execution_count": 45
        },
        {
          "output_type": "display_data",
          "data": {
            "image/png": "[encoded data removed]",
            "text/plain": [
              "<Figure size 720x576 with 1 Axes>"
            ]
          },
          "metadata": {
            "tags": [],
            "needs_background": "light"
          }
        }
      ]
    },
    {
      "cell_type": "code",
      "metadata": {
        "colab": {
          "base_uri": "https://localhost:8080/",
          "height": 139
        },
        "id": "tjh69t1r691C",
        "outputId": "7654413d-bfac-4b3d-e8fe-d6f4e12ce952"
      },
      "source": [
        "data.to_csv(index=False)"
      ],
      "execution_count": 46,
      "outputs": [
        {
          "output_type": "execute_result",
          "data": {
            "application/vnd.google.colaboratory.intrinsic+json": {
              "type": "string"
            },
            "text/plain": [
              "'station,Frequency,cumulative frequency,Relative Frequency,Cumulative Relative Frequency\\ns1,6.2,6.2,0.023682200152788397,0.023682200152788397\\ns2,3.1,9.3,0.011841100076394198,0.0355233002291826\\ns3,2.6,11.9,0.009931245225362876,0.04545454545454547\\ns4,3.1,15.0,0.011841100076394198,0.057295645530939666\\ns5,9.5,24.5,0.03628724216959513,0.0935828877005348\\ns6,4.8,29.3,0.018334606569900692,0.11191749427043549\\ns7,7.8,37.1,0.029793735676088628,0.1417112299465241\\ns8,6.4,43.5,0.024446142093200927,0.16615737203972503\\ns9,8.0,51.5,0.030557677616501158,0.1967150496562262\\ns10,4.0,55.5,0.015278838808250579,0.21199388846447675\\ns11,6.8,62.3,0.025974025974025983,0.23796791443850274\\ns12,2.8,65.1,0.010695187165775404,0.24866310160427815\\ns13,8.3,73.39999999999999,0.031703590527119956,0.2803666921313981\\ns14,5.0,78.39999999999999,0.019098548510313222,0.2994652406417113\\ns15,5.6,83.99999999999999,0.021390374331550808,0.32085561497326215\\ns16,1.1,85.09999999999998,0.004201680672268909,0.32505729564553104\\ns17,4.2,89.29999999999998,0.01604278074866311,0.34110007639419415\\ns18,5.0,94.29999999999998,0.019098548510313222,0.3601986249045074\\ns19,5.0,99.29999999999998,0.019098548510313222,0.3792971734148206\\ns20,6.3,105.59999999999998,0.024064171122994662,0.40336134453781525\\ns21,6.8,112.39999999999998,0.025974025974025983,0.42933537051184123\\ns22,3.1,115.49999999999997,0.011841100076394198,0.44117647058823545\\ns23,6.8,122.29999999999997,0.025974025974025983,0.46715049656226143\\ns24,6.8,129.09999999999997,0.025974025974025983,0.4931245225362874\\ns25,8.0,137.09999999999997,0.030557677616501158,0.5236822001527885\\ns26,4.8,141.89999999999998,0.018334606569900692,0.5420168067226893\\ns27,3.1,144.99999999999997,0.011841100076394198,0.5538579067990834\\ns28,2.7,147.69999999999996,0.01031321619556914,0.5641711229946526\\ns29,1.4,149.09999999999997,0.005347593582887702,0.5695187165775403\\ns30,5.7,154.79999999999995,0.021772345301757076,0.5912910618792974\\ns31,3.2,157.99999999999994,0.012223071046600463,0.6035141329258978\\ns32,6.9,164.89999999999995,0.02635599694423225,0.6298701298701301\\ns33,6.6,171.49999999999994,0.025210084033613453,0.6550802139037436\\ns34,6.8,178.29999999999995,0.025974025974025983,0.6810542398777696\\ns35,8.0,186.29999999999995,0.030557677616501158,0.7116119174942708\\ns36,4.8,191.09999999999997,0.018334606569900692,0.7299465240641715\\ns37,3.1,194.19999999999996,0.011841100076394198,0.7417876241405656\\ns38,2.7,196.89999999999995,0.01031321619556914,0.7521008403361348\\ns39,1.4,198.29999999999995,0.005347593582887702,0.7574484339190225\\ns40,5.7,203.99999999999994,0.021772345301757076,0.7792207792207796\\ns41,3.7,207.69999999999993,0.014132925897631786,0.7933537051184114\\ns42,7.4,215.09999999999994,0.028265851795263572,0.8216195569136749\\ns43,6.7,221.79999999999993,0.02559205500381972,0.8472116119174946\\ns44,2.8,224.59999999999994,0.010695187165775404,0.85790679908327\\ns45,7.5,232.09999999999994,0.028647822765469837,0.8865546218487399\\ns46,3.7,235.79999999999993,0.014132925897631786,0.9006875477463717\\ns47,6.2,241.99999999999991,0.023682200152788397,0.9243697478991602\\ns48,5.8,247.79999999999993,0.022154316271963338,0.9465240641711234\\ns49,6.1,253.89999999999992,0.023300229182582132,0.9698242933537056\\ns50,7.9,261.7999999999999,0.030175706646294896,1.0000000000000004\\n'"
            ]
          },
          "metadata": {
            "tags": []
          },
          "execution_count": 46
        }
      ]
    },
    {
      "cell_type": "code",
      "metadata": {
        "id": "x5dSf2Lp7XUt"
      },
      "source": [
        ""
      ],
      "execution_count": 47,
      "outputs": []
    }
  ]
}